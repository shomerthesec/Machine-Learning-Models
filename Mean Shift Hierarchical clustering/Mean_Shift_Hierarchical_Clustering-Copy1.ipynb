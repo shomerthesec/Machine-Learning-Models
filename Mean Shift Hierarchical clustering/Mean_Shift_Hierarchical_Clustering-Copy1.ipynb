{
 "cells": [
  {
   "cell_type": "code",
   "execution_count": 87,
   "metadata": {
    "ExecuteTime": {
     "end_time": "2020-03-25T21:24:15.490026Z",
     "start_time": "2020-03-25T21:24:15.484028Z"
    }
   },
   "outputs": [],
   "source": [
    "import numpy as np\n",
    "from sklearn.cluster import MeanShift, KMeans\n",
    "from sklearn import preprocessing\n",
    "from sklearn.preprocessing import LabelBinarizer\n",
    "import pandas as pd"
   ]
  },
  {
   "cell_type": "code",
   "execution_count": 100,
   "metadata": {
    "ExecuteTime": {
     "end_time": "2020-03-25T21:30:28.341907Z",
     "start_time": "2020-03-25T21:30:28.194966Z"
    }
   },
   "outputs": [],
   "source": [
    "\n",
    "df = pd.read_excel('titanic-Copy1.xls')\n",
    "original_df = pd.DataFrame.copy(df)\n",
    "df.drop(['body','name','embarked'], 1, inplace=True)\n",
    "df.fillna(0,inplace=True)"
   ]
  },
  {
   "cell_type": "code",
   "execution_count": 101,
   "metadata": {
    "ExecuteTime": {
     "end_time": "2020-03-25T21:30:29.483734Z",
     "start_time": "2020-03-25T21:30:29.461745Z"
    }
   },
   "outputs": [],
   "source": [
    "# to encode categorical columns\n",
    "ddf = pd.get_dummies(df, columns=['sex', 'cabin','home.dest'])\n",
    "\n",
    "#making dummy variables in a clustering problem creates more problems as we can see there is 480 cluster instead of 4 or max 5"
   ]
  },
  {
   "cell_type": "code",
   "execution_count": 102,
   "metadata": {
    "ExecuteTime": {
     "end_time": "2020-03-25T21:31:33.206612Z",
     "start_time": "2020-03-25T21:30:30.887201Z"
    }
   },
   "outputs": [
    {
     "data": {
      "text/plain": [
       "MeanShift(bandwidth=None, bin_seeding=False, cluster_all=True, min_bin_freq=1,\n",
       "          n_jobs=-1, seeds=None)"
      ]
     },
     "execution_count": 102,
     "metadata": {},
     "output_type": "execute_result"
    }
   ],
   "source": [
    "\n",
    "ddf.drop(['ticket','boat'], 1, inplace=True)\n",
    "\n",
    "X = np.array(ddf.drop(['survived'], 1).astype(float))\n",
    "X = preprocessing.scale(X)\n",
    "y = np.array(ddf['survived'])\n",
    "\n",
    "clf = MeanShift(n_jobs=-1)\n",
    "clf.fit(X)"
   ]
  },
  {
   "cell_type": "code",
   "execution_count": 103,
   "metadata": {
    "ExecuteTime": {
     "end_time": "2020-03-25T21:43:47.645822Z",
     "start_time": "2020-03-25T21:32:53.612484Z"
    }
   },
   "outputs": [
    {
     "name": "stderr",
     "output_type": "stream",
     "text": [
      "C:\\ProgramData\\Anaconda3\\lib\\site-packages\\pandas\\core\\indexing.py:190: SettingWithCopyWarning: \n",
      "A value is trying to be set on a copy of a slice from a DataFrame\n",
      "\n",
      "See the caveats in the documentation: http://pandas.pydata.org/pandas-docs/stable/indexing.html#indexing-view-versus-copy\n",
      "  self._setitem_with_indexer(indexer, value)\n"
     ]
    },
    {
     "name": "stdout",
     "output_type": "stream",
     "text": [
      "{0: 0.27631578947368424, 1: 0.6666666666666666, 2: 0.8, 3: 1.0, 4: 1.0, 5: 0.25, 6: 0.0, 7: 0.3333333333333333, 8: 0.6666666666666666, 9: 0.3333333333333333, 10: 1.0, 11: 0.0, 12: 0.0, 13: 0.3333333333333333, 14: 1.0, 15: 0.0, 16: 0.0, 17: 0.6666666666666666, 18: 0.6666666666666666, 19: 0.3333333333333333, 20: 0.6666666666666666, 21: 0.6666666666666666, 22: 0.0, 23: 0.6666666666666666, 24: 0.0, 25: 1.0, 26: 1.0, 27: 0.6666666666666666, 28: 0.0, 29: 1.0, 30: 0.6666666666666666, 31: 1.0, 32: 1.0, 33: 0.5, 34: 1.0, 35: 0.0, 36: 0.0, 37: 0.5, 38: 0.5, 39: 0.0, 40: 0.0, 41: 0.0, 42: 1.0, 43: 1.0, 44: 1.0, 45: 0.5, 46: 0.0, 47: 0.0, 48: 0.0, 49: 0.5, 50: 0.0, 51: 0.5, 52: 0.0, 53: 0.5, 54: 0.0, 55: 1.0, 56: 0.5, 57: 0.5, 58: 0.5, 59: 0.5, 60: 0.5, 61: 0.5, 62: 0.5, 63: 1.0, 64: 0.5, 65: 0.0, 66: 1.0, 67: 1.0, 68: 0.5, 69: 1.0, 70: 1.0, 71: 0.0, 72: 0.5, 73: 0.0, 74: 0.0, 75: 0.0, 76: 0.5, 77: 0.5, 78: 0.0, 79: 0.0, 80: 0.5, 81: 1.0, 82: 1.0, 83: 0.5, 84: 1.0, 85: 0.5, 86: 0.5, 87: 0.0, 88: 0.5, 89: 0.5, 90: 1.0, 91: 0.5, 92: 0.5, 93: 0.5, 94: 0.5, 95: 1.0, 96: 1.0, 97: 0.5, 98: 1.0, 99: 0.5, 100: 1.0, 101: 0.5, 102: 0.5, 103: 0.5, 104: 1.0, 105: 1.0, 106: 0.5, 107: 0.5, 108: 0.5, 109: 1.0, 110: 0.0, 111: 1.0, 112: 0.5, 113: 0.5, 114: 1.0, 115: 1.0, 116: 1.0, 117: 0.5, 118: 1.0, 119: 1.0, 120: 1.0, 121: 0.5, 122: 0.5, 123: 1.0, 124: 0.5, 125: 0.5, 126: 1.0, 127: 1.0, 128: 1.0, 129: 1.0, 130: 1.0, 131: 1.0, 132: 1.0, 133: 1.0, 134: 0.5, 135: 0.5, 136: 0.5, 137: 0.5, 138: 1.0, 139: 0.0, 140: 0.0, 141: 0.0, 142: 1.0, 143: 0.0, 144: 0.0, 145: 0.0, 146: 0.0, 147: 0.0, 148: 0.0, 149: 0.0, 150: 0.0, 151: 0.0, 152: 0.0, 153: 0.0, 154: 0.0, 155: 0.0, 156: 1.0, 157: 0.0, 158: 1.0, 159: 1.0, 160: 0.0, 161: 0.0, 162: 0.0, 163: 1.0, 164: 0.0, 165: 0.0, 166: 0.0, 167: 1.0, 168: 1.0, 169: 0.0, 170: 0.0, 171: 0.0, 172: 0.0, 173: 1.0, 174: 0.0, 175: 1.0, 176: 0.0, 177: 0.0, 178: 0.0, 179: 0.0, 180: 1.0, 181: 0.0, 182: 1.0, 183: 0.0, 184: 0.0, 185: 0.0, 186: 0.0, 187: 0.0, 188: 1.0, 189: 0.0, 190: 0.0, 191: 0.0, 192: 1.0, 193: 1.0, 194: 0.0, 195: 0.0, 196: 0.0, 197: 0.0, 198: 1.0, 199: 1.0, 200: 0.0, 201: 0.0, 202: 0.0, 203: 1.0, 204: 1.0, 205: 0.0, 206: 0.0, 207: 1.0, 208: 1.0, 209: 1.0, 210: 0.0, 211: 0.0, 212: 1.0, 213: 0.0, 214: 0.0, 215: 1.0, 216: 0.0, 217: 0.0, 218: 0.0, 219: 0.0, 220: 0.0, 221: 0.0, 222: 0.0, 223: 1.0, 224: 0.0, 225: 0.0, 226: 0.0, 227: 1.0, 228: 1.0, 229: 0.0, 230: 0.0, 231: 0.0, 232: 1.0, 233: 0.0, 234: 0.0, 235: 0.0, 236: 0.0, 237: 0.0, 238: 0.0, 239: 1.0, 240: 1.0, 241: 0.0, 242: 0.0, 243: 0.0, 244: 0.0, 245: 1.0, 246: 1.0, 247: 0.0, 248: 1.0, 249: 0.0, 250: 0.0, 251: 0.0, 252: 1.0, 253: 0.0, 254: 0.0, 255: 0.0, 256: 0.0, 257: 0.0, 258: 1.0, 259: 0.0, 260: 1.0, 261: 0.0, 262: 0.0, 263: 1.0, 264: 1.0, 265: 0.0, 266: 1.0, 267: 0.0, 268: 0.0, 269: 0.0, 270: 0.0, 271: 0.0, 272: 1.0, 273: 1.0, 274: 0.0, 275: 0.0, 276: 0.0, 277: 1.0, 278: 0.0, 279: 0.0, 280: 0.0, 281: 0.0, 282: 0.0, 283: 1.0, 284: 0.0, 285: 1.0, 286: 0.0, 287: 0.0, 288: 0.0, 289: 1.0, 290: 1.0, 291: 0.0, 292: 1.0, 293: 1.0, 294: 1.0, 295: 1.0, 296: 0.0, 297: 0.0, 298: 0.0, 299: 1.0, 300: 0.0, 301: 0.0, 302: 0.0, 303: 1.0, 304: 0.0, 305: 1.0, 306: 0.0, 307: 1.0, 308: 1.0, 309: 1.0, 310: 0.0, 311: 0.0, 312: 0.0, 313: 1.0, 314: 1.0, 315: 0.0, 316: 1.0, 317: 1.0, 318: 0.0, 319: 0.0, 320: 0.0, 321: 0.0, 322: 1.0, 323: 0.0, 324: 1.0, 325: 1.0, 326: 1.0, 327: 0.0, 328: 1.0, 329: 1.0, 330: 1.0, 331: 0.0, 332: 1.0, 333: 1.0, 334: 0.0, 335: 0.0, 336: 1.0, 337: 0.0, 338: 1.0, 339: 1.0, 340: 1.0, 341: 1.0, 342: 1.0, 343: 1.0, 344: 0.0, 345: 0.0, 346: 1.0, 347: 0.0, 348: 1.0, 349: 1.0, 350: 0.0, 351: 1.0, 352: 0.0, 353: 0.0, 354: 0.0, 355: 0.0, 356: 0.0, 357: 0.0, 358: 0.0, 359: 0.0, 360: 1.0, 361: 0.0, 362: 1.0, 363: 0.0, 364: 1.0, 365: 1.0, 366: 1.0, 367: 0.0, 368: 0.0, 369: 1.0, 370: 0.0, 371: 1.0, 372: 1.0, 373: 0.0, 374: 0.0, 375: 1.0, 376: 1.0, 377: 0.0, 378: 0.0, 379: 0.0, 380: 1.0, 381: 1.0, 382: 0.0, 383: 0.0, 384: 0.0, 385: 1.0, 386: 1.0, 387: 1.0, 388: 0.0, 389: 0.0, 390: 0.0, 391: 1.0, 392: 1.0, 393: 1.0, 394: 1.0, 395: 1.0, 396: 1.0, 397: 1.0, 398: 0.0, 399: 0.0, 400: 1.0, 401: 1.0, 402: 0.0, 403: 1.0, 404: 1.0, 405: 1.0, 406: 1.0, 407: 0.0, 408: 0.0, 409: 1.0, 410: 0.0, 411: 0.0, 412: 1.0, 413: 1.0, 414: 0.0, 415: 1.0, 416: 1.0, 417: 1.0, 418: 0.0, 419: 1.0, 420: 1.0, 421: 0.0, 422: 1.0, 423: 1.0, 424: 1.0, 425: 1.0, 426: 1.0, 427: 1.0, 428: 1.0, 429: 1.0, 430: 1.0, 431: 0.0, 432: 0.0, 433: 0.0, 434: 0.0, 435: 1.0, 436: 1.0, 437: 0.0, 438: 1.0, 439: 1.0, 440: 1.0, 441: 0.0, 442: 1.0, 443: 0.0, 444: 0.0, 445: 0.0, 446: 0.0, 447: 0.0, 448: 0.0}\n"
     ]
    }
   ],
   "source": [
    "labels = clf.labels_\n",
    "cluster_centers = clf.cluster_centers_\n",
    "original_df['cluster_group']=np.nan\n",
    "for i in range(len(X)):\n",
    "    original_df['cluster_group'].iloc[i] = labels[i]\n",
    "n_clusters_ = len(np.unique(labels))\n",
    "survival_rates = {}\n",
    "for i in range(n_clusters_):\n",
    "    temp_df = original_df[ (original_df['cluster_group']==float(i)) ]\n",
    "    #print(temp_df.head())\n",
    "\n",
    "    survival_cluster = temp_df[  (temp_df['survived'] == 1) ]\n",
    "\n",
    "    survival_rate = len(survival_cluster) / len(temp_df)\n",
    "    #print(i,survival_rate)\n",
    "    survival_rates[i] = survival_rate\n",
    "    \n",
    "print(survival_rates)"
   ]
  },
  {
   "cell_type": "code",
   "execution_count": 16,
   "metadata": {
    "ExecuteTime": {
     "end_time": "2020-03-23T10:21:26.669202Z",
     "start_time": "2020-03-23T10:21:26.617228Z"
    }
   },
   "outputs": [
    {
     "name": "stdout",
     "output_type": "stream",
     "text": [
      "       pclass  survived        age  sibsp  parch       fare  body  \\\n",
      "count     2.0       2.0   2.000000    2.0    2.0    2.00000   0.0   \n",
      "mean      1.0       1.0  40.000000    0.0    0.0  387.35210   NaN   \n",
      "std       0.0       0.0   7.071068    0.0    0.0  176.74431   NaN   \n",
      "min       1.0       1.0  35.000000    0.0    0.0  262.37500   NaN   \n",
      "25%       1.0       1.0  37.500000    0.0    0.0  324.86355   NaN   \n",
      "50%       1.0       1.0  40.000000    0.0    0.0  387.35210   NaN   \n",
      "75%       1.0       1.0  42.500000    0.0    0.0  449.84065   NaN   \n",
      "max       1.0       1.0  45.000000    0.0    0.0  512.32920   NaN   \n",
      "\n",
      "       cluster_group  \n",
      "count            2.0  \n",
      "mean             5.0  \n",
      "std              0.0  \n",
      "min              5.0  \n",
      "25%              5.0  \n",
      "50%              5.0  \n",
      "75%              5.0  \n",
      "max              5.0  \n"
     ]
    }
   ],
   "source": [
    "print(original_df[ (original_df['cluster_group']==5) ].describe()) # choose the group of clusters u want to see\n",
    "#add .describe to the df before printing it to show brief and easy visualization"
   ]
  },
  {
   "cell_type": "code",
   "execution_count": null,
   "metadata": {},
   "outputs": [],
   "source": []
  }
 ],
 "metadata": {
  "kernelspec": {
   "display_name": "Python 3",
   "language": "python",
   "name": "python3"
  },
  "language_info": {
   "codemirror_mode": {
    "name": "ipython",
    "version": 3
   },
   "file_extension": ".py",
   "mimetype": "text/x-python",
   "name": "python",
   "nbconvert_exporter": "python",
   "pygments_lexer": "ipython3",
   "version": "3.7.4"
  },
  "notify_time": "5",
  "varInspector": {
   "cols": {
    "lenName": 16,
    "lenType": 16,
    "lenVar": 40
   },
   "kernels_config": {
    "python": {
     "delete_cmd_postfix": "",
     "delete_cmd_prefix": "del ",
     "library": "var_list.py",
     "varRefreshCmd": "print(var_dic_list())"
    },
    "r": {
     "delete_cmd_postfix": ") ",
     "delete_cmd_prefix": "rm(",
     "library": "var_list.r",
     "varRefreshCmd": "cat(var_dic_list()) "
    }
   },
   "position": {
    "height": "492.648px",
    "left": "599.473px",
    "right": "20px",
    "top": "136.989px",
    "width": "536.824px"
   },
   "types_to_exclude": [
    "module",
    "function",
    "builtin_function_or_method",
    "instance",
    "_Feature"
   ],
   "window_display": false
  }
 },
 "nbformat": 4,
 "nbformat_minor": 2
}
