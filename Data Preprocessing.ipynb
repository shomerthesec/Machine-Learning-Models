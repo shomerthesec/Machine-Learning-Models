{
 "cells": [
  {
   "cell_type": "code",
   "execution_count": null,
   "metadata": {},
   "outputs": [],
   "source": [
    "display(df.describe()) # to see a statistical representation of the dataframe\n",
    "\n",
    "# TODO: Select three indices of your choice you wish to sample from the dataset\n",
    "indices = [5,100,200]\n",
    "\n",
    "# Create a DataFrame of the chosen samples\n",
    "samples = pd.DataFrame( data.loc[indices], columns = data.keys() ).reset_index(drop = True)"
   ]
  },
  {
   "cell_type": "code",
   "execution_count": null,
   "metadata": {},
   "outputs": [],
   "source": [
    "# to visualise the correlation in the data\n",
    "import seaborn\n",
    "seaborn.heatmap( data.corr() )"
   ]
  },
  {
   "cell_type": "code",
   "execution_count": null,
   "metadata": {},
   "outputs": [],
   "source": [
    "# Produce a scatter matrix for each pair of features in the data\n",
    "pd.plotting.scatter_matrix(data, alpha = 0.3, figsize = (14,8), diagonal = 'kde');"
   ]
  },
  {
   "cell_type": "code",
   "execution_count": null,
   "metadata": {},
   "outputs": [],
   "source": [
    "# to convert categorical data #2\n",
    "new_df = pd.get_dummies(df, columns=['sex', 'cabin','home.dest']) #which creates new df and change the wanted columns into dummy variables"
   ]
  },
  {
   "cell_type": "code",
   "execution_count": null,
   "metadata": {},
   "outputs": [],
   "source": [
    "# to change labels to numerical value we use the map fn, the col must be in pd.Series  format\n",
    "df['label'] = df.label.map( {'ham':0, 'spam':1} )\n",
    "#we define the column of the df and then we def the dictionary of values to change"
   ]
  },
  {
   "cell_type": "code",
   "execution_count": null,
   "metadata": {},
   "outputs": [],
   "source": [
    "# to normalize numerical col while there is categorical col with no error\n",
    "from sklearn.preprocessing import MinMaxScaler\n",
    "# Initialize a scaler, then apply it to the features\n",
    "scaler = MinMaxScaler() # default=(0, 1)\n",
    "numerical = ['age', 'education-num'] # numerical col \n",
    "copy_df = pd.DataFrame(data = df)\n",
    "copy_df[numerical] = scaler.fit_transform( copy_df[numerical] ) # transforms the data in the col then assign it to the same col "
   ]
  },
  {
   "cell_type": "code",
   "execution_count": null,
   "metadata": {},
   "outputs": [],
   "source": [
    "# for feature selection\n",
    "from sklearn.feature_selection import SelectKBest, SelectPercentile, chi2\n",
    "X_best = SelectKBest(chi2, k=20).fit_transform(X, y)\n",
    "X_perc = SelectPercentile(chi2, k=20).fit_transform(X, y)\n",
    "#For regression: f_regression, mutual_info_regression /// For classification: chi2, f_classif, mutual_info_classif"
   ]
  },
  {
   "cell_type": "code",
   "execution_count": null,
   "metadata": {},
   "outputs": [],
   "source": [
    "# to do PCA Principal component analysis\n",
    "import matplotlib.pyplot as plt\n",
    "from sklearn.decomposition import PCA\n",
    "pca = PCA(n_components=2) # num of components to devide the features into\n",
    "pca.fit( X )\n",
    "print(pca.explained_variance_ratio_) # to show the importance ratio of the pca components\n",
    "comp_0 = pca.components_[0]\n",
    "comp_1 = pca.components_[1]\n",
    "newX = pca.transform( X ) # this is the new 2 columns\n",
    "for ii , jj in zip( newX , X) :\n",
    "    plt.scatter(comp_0[0]*ii[0] , comp_0[1]*ii[0] , color= 'r' ) # first comp scattering\n",
    "    plt.scatter(comp_1[0]*ii[1] , comp_1[1]*ii[1] , color= 'c' ) # second component scattering\n",
    "    plt.scatter( jj[0] , jj[1] , color= 'r' )\n",
    "plt.show()"
   ]
  },
  {
   "cell_type": "code",
   "execution_count": 1,
   "metadata": {
    "ExecuteTime": {
     "end_time": "2020-04-19T15:07:06.496320Z",
     "start_time": "2020-04-19T15:07:06.355388Z"
    }
   },
   "outputs": [
    {
     "ename": "NameError",
     "evalue": "name 'X' is not defined",
     "output_type": "error",
     "traceback": [
      "\u001b[1;31m---------------------------------------------------------------------------\u001b[0m",
      "\u001b[1;31mNameError\u001b[0m                                 Traceback (most recent call last)",
      "\u001b[1;32m<ipython-input-1-d085cd5c2160>\u001b[0m in \u001b[0;36m<module>\u001b[1;34m\u001b[0m\n\u001b[0;32m      1\u001b[0m \u001b[1;32mfrom\u001b[0m \u001b[0msklearn\u001b[0m \u001b[1;32mimport\u001b[0m \u001b[0mrandom_projection\u001b[0m\u001b[1;33m\u001b[0m\u001b[1;33m\u001b[0m\u001b[0m\n\u001b[0;32m      2\u001b[0m \u001b[0mrp\u001b[0m \u001b[1;33m=\u001b[0m \u001b[0mrandom_projection\u001b[0m\u001b[1;33m.\u001b[0m\u001b[0mSparseRandomProjection\u001b[0m\u001b[1;33m(\u001b[0m\u001b[1;33m)\u001b[0m\u001b[1;33m\u001b[0m\u001b[1;33m\u001b[0m\u001b[0m\n\u001b[1;32m----> 3\u001b[1;33m \u001b[0mnewX\u001b[0m \u001b[1;33m=\u001b[0m \u001b[0mrp\u001b[0m\u001b[1;33m.\u001b[0m\u001b[0mfit_transform\u001b[0m\u001b[1;33m(\u001b[0m \u001b[0mX\u001b[0m\u001b[1;33m)\u001b[0m\u001b[1;33m\u001b[0m\u001b[1;33m\u001b[0m\u001b[0m\n\u001b[0m",
      "\u001b[1;31mNameError\u001b[0m: name 'X' is not defined"
     ]
    }
   ],
   "source": [
    "# to do random projection\n",
    "from sklearn import random_projection\n",
    "rp = random_projection.SparseRandomProjection(n_components='auto' , eps=0.1) # n_comp if u want sto specify one, and eps determines the distance in error bet. points\n",
    "newX = rp.fit_transform( X)"
   ]
  },
  {
   "cell_type": "code",
   "execution_count": null,
   "metadata": {},
   "outputs": [],
   "source": [
    "# to do independent Component analysis ICA\n",
    "from sklearn .decomposition import FastICA\n",
    "X = list( zip( signal1 , signal2 , signaln)) #where each signal is a voice recording e.g.\n",
    "ica = FastICA( n_components= n )\n",
    "components = ica.fit_transform( X)"
   ]
  },
  {
   "cell_type": "code",
   "execution_count": null,
   "metadata": {},
   "outputs": [],
   "source": [
    "# to convert categorical data #1\n",
    "df.drop(['head1','head2'], 1, inplace=True)\n",
    "df.convert_objects(convert_numeric=True) # you may comment that one\n",
    "df.fillna(0, inplace=True)\n",
    "#print(df.head())\n",
    "def handle_non_numerical_data(df):\n",
    "    columns = df.columns.values\n",
    "    for column in columns:\n",
    "        text_digit_vals = {}\n",
    "        def convert_to_int(val):\n",
    "            return text_digit_vals[val]\n",
    "        if df[column].dtype != np.int64 and df[column].dtype != np.float64:\n",
    "            column_contents = df[column].values.tolist()\n",
    "            unique_elements = set(column_contents)\n",
    "            x = 0\n",
    "            for unique in unique_elements:\n",
    "                if unique not in text_digit_vals:\n",
    "                    text_digit_vals[unique] = x\n",
    "                    x+=1\n",
    "            df[column] = list(map(convert_to_int, df[column]))\n",
    "    return df\n",
    "df = handle_non_numerical_data(df)\n",
    "print(df.head())"
   ]
  },
  {
   "cell_type": "code",
   "execution_count": null,
   "metadata": {},
   "outputs": [],
   "source": []
  },
  {
   "cell_type": "code",
   "execution_count": null,
   "metadata": {},
   "outputs": [],
   "source": []
  }
 ],
 "metadata": {
  "kernelspec": {
   "display_name": "Python 3",
   "language": "python",
   "name": "python3"
  },
  "language_info": {
   "codemirror_mode": {
    "name": "ipython",
    "version": 3
   },
   "file_extension": ".py",
   "mimetype": "text/x-python",
   "name": "python",
   "nbconvert_exporter": "python",
   "pygments_lexer": "ipython3",
   "version": "3.7.1"
  },
  "varInspector": {
   "cols": {
    "lenName": 16,
    "lenType": 16,
    "lenVar": 40
   },
   "kernels_config": {
    "python": {
     "delete_cmd_postfix": "",
     "delete_cmd_prefix": "del ",
     "library": "var_list.py",
     "varRefreshCmd": "print(var_dic_list())"
    },
    "r": {
     "delete_cmd_postfix": ") ",
     "delete_cmd_prefix": "rm(",
     "library": "var_list.r",
     "varRefreshCmd": "cat(var_dic_list()) "
    }
   },
   "types_to_exclude": [
    "module",
    "function",
    "builtin_function_or_method",
    "instance",
    "_Feature"
   ],
   "window_display": false
  }
 },
 "nbformat": 4,
 "nbformat_minor": 2
}
