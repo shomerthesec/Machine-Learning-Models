{
 "cells": [
  {
   "cell_type": "code",
   "execution_count": 6,
   "metadata": {
    "ExecuteTime": {
     "end_time": "2020-03-27T21:05:05.357013Z",
     "start_time": "2020-03-27T21:05:04.933215Z"
    }
   },
   "outputs": [
    {
     "name": "stdout",
     "output_type": "stream",
     "text": [
      "accuracy=  0.9642857142857143\n",
      "benign\n",
      "malignant\n",
      "              precision    recall  f1-score   support\n",
      "\n",
      "           2       1.00      0.94      0.97        89\n",
      "           4       0.91      1.00      0.95        51\n",
      "\n",
      "    accuracy                           0.96       140\n",
      "   macro avg       0.96      0.97      0.96       140\n",
      "weighted avg       0.97      0.96      0.96       140\n",
      "\n"
     ]
    },
    {
     "data": {
      "text/plain": [
       "[<matplotlib.lines.Line2D at 0x1acb9f05a90>]"
      ]
     },
     "execution_count": 6,
     "metadata": {},
     "output_type": "execute_result"
    },
    {
     "data": {
      "image/png": "[encoded data removed]",
      "text/plain": [
       "<Figure size 432x288 with 1 Axes>"
      ]
     },
     "metadata": {
      "needs_background": "light"
     },
     "output_type": "display_data"
    }
   ],
   "source": [
    "# -*- coding: utf-8 -*-\n",
    "\"\"\"\n",
    "Created on Thu Mar 19 14:22:42 2020\n",
    "\n",
    "@author: ShomerTheSec\n",
    "\"\"\"\n",
    "\n",
    "import numpy as np\n",
    "from sklearn import preprocessing, model_selection, svm\n",
    "import pandas as pd\n",
    "\n",
    "#%%\n",
    "df = pd.read_csv('breast-cancer-wisconsin.data')\n",
    "diagnoses={2:'benign', 4:'malignant'} #2 for benign, 4 for malignant\n",
    "\n",
    "df.replace('?',-99999, inplace=True) # to replace '?' values into -99999\n",
    "df.drop(['sample_code'], 1, inplace=True) # to drop the first column as it's the id\n",
    "\n",
    "X = np.array(df.drop(['class'], 1))\n",
    "y = np.array(df['class'])\n",
    "\n",
    "X_train, X_test, y_train, y_test = model_selection.train_test_split(X, y, test_size=0.2)\n",
    "\n",
    "#%%\n",
    "model = svm.SVC( C=3,\n",
    "                    kernel='rbf',\n",
    "                    gamma='auto',\n",
    "                    shrinking=True,\n",
    "                    probability=False,\n",
    "                    tol=0.001,\n",
    "                    cache_size=1000,\n",
    "                    verbose=False,\n",
    "                    max_iter=-1,\n",
    "                    decision_function_shape='ovo')  \n",
    "#%%\n",
    "model.fit(X_train, y_train)\n",
    "accuracy = model.score(X_test, y_test)\n",
    "print('accuracy= ',accuracy)\n",
    "\n",
    "#%% to save the model\n",
    "import pickle\n",
    "with open('SVM.pickle','wb') as f:\n",
    "    pickle.dump(model, f)\n",
    "    \n",
    "#%% to load the model\n",
    "pickle_in = open('SVM.pickle','rb')\n",
    "model = pickle.load(pickle_in)\n",
    "\n",
    "\n",
    "#%%\n",
    "example_measures = np.array([[4,2,1,1,1,2,3,2,1],[9,8,9,8,10,9,8,7,6]]) #to make prediction for more than one \n",
    "example_measures = example_measures.reshape(len(example_measures), -1) #can replace len.. with the number of predictions but that would be hard coded \n",
    "prediction = model.predict(example_measures)\n",
    "for i in prediction:\n",
    "      print(diagnoses[i])\n",
    "\n",
    "\n",
    "#%%\n",
    "from sklearn.metrics import confusion_matrix\n",
    "import sklearn\n",
    "y_predict = model.predict(X_test)\n",
    "tn, fp, fn, tp = confusion_matrix(y_test, y_predict).ravel()\n",
    "matrix=confusion_matrix(y_test, y_predict)\n",
    "# true negative , false positive false negative ,, etc\n",
    "\n",
    "#%%from sklearn.metrics import classification_report\n",
    "from sklearn.metrics import classification_report\n",
    "y_predict = model.predict(X_test)\n",
    "print(classification_report(y_test, y_predict))\n",
    "\n",
    "from matplotlib.pyplot import plot\n",
    "plot(y_test,y_predict)"
   ]
  },
  {
   "cell_type": "code",
   "execution_count": null,
   "metadata": {
    "ExecuteTime": {
     "start_time": "2020-03-27T19:11:50.575Z"
    }
   },
   "outputs": [],
   "source": [
    "#%% to use grid search for deciding the params\n",
    "\n",
    "from sklearn.model_selection import GridSearchCV\n",
    "from sklearn.metrics import make_scorer, f1_score\n",
    "\n",
    "parameters = {'kernel':['poly', 'rbf'],'C':[0.1, 1, 10]} #decide the available params\n",
    "#create a score variable to store the score we want f1\n",
    "scorer = make_scorer(f1_score, pos_label=values)\n",
    "# Create the object.\n",
    "grid_obj = GridSearchCV(model, parameters)\n",
    "# Fit the data\n",
    "grid_fit = grid_obj.fit(X_train,y_train)\n",
    "\n",
    "best_clf = grid_fit.best_estimator_"
   ]
  },
  {
   "cell_type": "code",
   "execution_count": 11,
   "metadata": {
    "ExecuteTime": {
     "end_time": "2020-03-27T21:08:00.825809Z",
     "start_time": "2020-03-27T21:08:00.747850Z"
    }
   },
   "outputs": [
    {
     "data": {
      "text/plain": [
       "array([0.94285714, 0.96666667, 0.95238095, 0.93809524, 0.95238095])"
      ]
     },
     "execution_count": 11,
     "metadata": {},
     "output_type": "execute_result"
    }
   ],
   "source": [
    "from sklearn.model_selection import ShuffleSplit\n",
    "from sklearn.model_selection import cross_val_score\n",
    "n_samples = X.shape[0]\n",
    "cv = ShuffleSplit(n_splits=5, test_size=0.3, random_state=0)\n",
    "cross_val_score(model, X, y, cv=cv)"
   ]
  },
  {
   "cell_type": "code",
   "execution_count": null,
   "metadata": {},
   "outputs": [],
   "source": []
  }
 ],
 "metadata": {
  "kernelspec": {
   "display_name": "Python 3",
   "language": "python",
   "name": "python3"
  },
  "language_info": {
   "codemirror_mode": {
    "name": "ipython",
    "version": 3
   },
   "file_extension": ".py",
   "mimetype": "text/x-python",
   "name": "python",
   "nbconvert_exporter": "python",
   "pygments_lexer": "ipython3",
   "version": "3.7.1"
  },
  "varInspector": {
   "cols": {
    "lenName": 16,
    "lenType": 16,
    "lenVar": 40
   },
   "kernels_config": {
    "python": {
     "delete_cmd_postfix": "",
     "delete_cmd_prefix": "del ",
     "library": "var_list.py",
     "varRefreshCmd": "print(var_dic_list())"
    },
    "r": {
     "delete_cmd_postfix": ") ",
     "delete_cmd_prefix": "rm(",
     "library": "var_list.r",
     "varRefreshCmd": "cat(var_dic_list()) "
    }
   },
   "position": {
    "height": "410.34px",
    "left": "854.516px",
    "right": "20px",
    "top": "120px",
    "width": "353.706px"
   },
   "types_to_exclude": [
    "module",
    "function",
    "builtin_function_or_method",
    "instance",
    "_Feature"
   ],
   "window_display": false
  }
 },
 "nbformat": 4,
 "nbformat_minor": 2
}
