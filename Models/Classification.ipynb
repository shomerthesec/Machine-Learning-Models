{
 "cells": [
  {
   "cell_type": "code",
   "execution_count": 8,
   "metadata": {
    "ExecuteTime": {
     "end_time": "2020-04-02T18:42:14.936928Z",
     "start_time": "2020-04-02T18:42:14.930935Z"
    }
   },
   "outputs": [],
   "source": [
    "import numpy as np\n",
    "from sklearn import preprocessing\n",
    "import pandas as pd\n",
    "from sklearn.model_selection import ShuffleSplit\n",
    "from sklearn.model_selection import cross_val_score\n",
    "from sklearn import model_selection"
   ]
  },
  {
   "cell_type": "code",
   "execution_count": 9,
   "metadata": {
    "ExecuteTime": {
     "end_time": "2020-04-02T18:42:15.804503Z",
     "start_time": "2020-04-02T18:42:15.778520Z"
    }
   },
   "outputs": [],
   "source": [
    "df = pd.read_csv('breast-cancer-wisconsin.data')\n",
    "diagnoses={2:'benign', 4:'malignant'} #2 for benign, 4 for malignant\n",
    "\n",
    "df.replace('?',-99999, inplace=True) # to replace '?' values into -99999\n",
    "df.drop(['sample_code'], 1, inplace=True) # to drop the first column as it's the id\n",
    "\n",
    "X = np.array(df.drop(['class'], 1))\n",
    "y = np.array(df['class'])\n",
    "\n",
    "X_train, X_test, y_train, y_test = model_selection.train_test_split(X, y, test_size=0.2)\n"
   ]
  },
  {
   "cell_type": "code",
   "execution_count": 10,
   "metadata": {
    "ExecuteTime": {
     "end_time": "2020-04-02T18:42:17.996187Z",
     "start_time": "2020-04-02T18:42:17.986192Z"
    }
   },
   "outputs": [],
   "source": [
    "def fit(model):\n",
    "    \n",
    "    model.fit(X_train, y_train)\n",
    "    accuracy = model.score(X_test, y_test)\n",
    "    print('accuracy= ',accuracy)\n",
    "\n",
    "    #%%from sklearn.metrics import classification_report\n",
    "    from sklearn.metrics import classification_report\n",
    "    y_predict = model.predict(X_test)\n",
    "    print(classification_report(y_test, y_predict))\n",
    "    n_samples = X.shape[0]\n",
    "    cv = ShuffleSplit(n_splits=5, test_size=0.3, random_state=0)\n",
    "    print(cross_val_score(model, X, y, cv=cv))\n",
    "    \n",
    "    return model\n"
   ]
  },
  {
   "cell_type": "code",
   "execution_count": 16,
   "metadata": {
    "ExecuteTime": {
     "end_time": "2020-04-02T18:45:08.513568Z",
     "start_time": "2020-04-02T18:45:08.416615Z"
    }
   },
   "outputs": [
    {
     "name": "stdout",
     "output_type": "stream",
     "text": [
      "accuracy=  0.9571428571428572\n",
      "              precision    recall  f1-score   support\n",
      "\n",
      "           2       1.00      0.93      0.96        86\n",
      "           4       0.90      1.00      0.95        54\n",
      "\n",
      "    accuracy                           0.96       140\n",
      "   macro avg       0.95      0.97      0.96       140\n",
      "weighted avg       0.96      0.96      0.96       140\n",
      "\n",
      "[0.94285714 0.96666667 0.95238095 0.93809524 0.95238095]\n"
     ]
    }
   ],
   "source": [
    "# svm model\n",
    "from sklearn.svm import SVC\n",
    "svm_model = SVC( C=3,\n",
    "                    kernel='rbf',\n",
    "                    gamma='auto',\n",
    "                    shrinking=True,\n",
    "                    probability=False,\n",
    "                    tol=0.001,\n",
    "                    cache_size=1000,\n",
    "                    verbose=False,\n",
    "                    max_iter=-1,\n",
    "                    decision_function_shape='ovo')\n",
    "svm_model=fit(svm_model)"
   ]
  },
  {
   "cell_type": "code",
   "execution_count": 26,
   "metadata": {
    "ExecuteTime": {
     "end_time": "2020-04-02T18:49:23.811397Z",
     "start_time": "2020-04-02T18:49:02.476581Z"
    }
   },
   "outputs": [
    {
     "name": "stdout",
     "output_type": "stream",
     "text": [
      "accuracy=  0.6142857142857143\n"
     ]
    },
    {
     "name": "stderr",
     "output_type": "stream",
     "text": [
      "C:\\ProgramData\\Anaconda3\\lib\\site-packages\\sklearn\\metrics\\classification.py:1437: UndefinedMetricWarning: Precision and F-score are ill-defined and being set to 0.0 in labels with no predicted samples.\n",
      "  'precision', 'predicted', average, warn_for)\n"
     ]
    },
    {
     "name": "stdout",
     "output_type": "stream",
     "text": [
      "              precision    recall  f1-score   support\n",
      "\n",
      "           2       0.61      1.00      0.76        86\n",
      "           4       0.00      0.00      0.00        54\n",
      "\n",
      "    accuracy                           0.61       140\n",
      "   macro avg       0.31      0.50      0.38       140\n",
      "weighted avg       0.38      0.61      0.47       140\n",
      "\n",
      "[0.64285714 0.64285714 0.63809524 0.61904762 0.67142857]\n"
     ]
    }
   ],
   "source": [
    "# using ensemble method\n",
    "from sklearn.ensemble import AdaBoostClassifier\n",
    "from sklearn.svm import SVC\n",
    "estimator=SVC( C=2,\n",
    "                    kernel='rbf',\n",
    "                    gamma='auto',\n",
    "                    shrinking=True)\n",
    "boosted_svm = AdaBoostClassifier(base_estimator = estimator , n_estimators = 100 , learning_rate=0.1 , algorithm='SAMME')\n",
    "boosted_svm=fit(boosted_svm)\n"
   ]
  },
  {
   "cell_type": "code",
   "execution_count": 27,
   "metadata": {
    "ExecuteTime": {
     "end_time": "2020-04-02T18:51:00.724132Z",
     "start_time": "2020-04-02T18:51:00.449614Z"
    }
   },
   "outputs": [
    {
     "name": "stdout",
     "output_type": "stream",
     "text": [
      "              precision    recall  f1-score   support\n",
      "\n",
      "           0       0.00      0.00      0.00       0.0\n",
      "           1       0.00      0.00      0.00       0.0\n",
      "           2       0.00      0.00      0.00      86.0\n",
      "           4       0.00      0.00      0.00      54.0\n",
      "\n",
      "    accuracy                           0.00     140.0\n",
      "   macro avg       0.00      0.00      0.00     140.0\n",
      "weighted avg       0.00      0.00      0.00     140.0\n",
      "\n",
      "[-12408.45103183 -11820.77921735 -11712.95540821 -11649.05872981\n",
      " -10158.19772686]\n"
     ]
    },
    {
     "name": "stderr",
     "output_type": "stream",
     "text": [
      "C:\\ProgramData\\Anaconda3\\lib\\site-packages\\sklearn\\metrics\\classification.py:1437: UndefinedMetricWarning: Precision and F-score are ill-defined and being set to 0.0 in labels with no predicted samples.\n",
      "  'precision', 'predicted', average, warn_for)\n",
      "C:\\ProgramData\\Anaconda3\\lib\\site-packages\\sklearn\\metrics\\classification.py:1439: UndefinedMetricWarning: Recall and F-score are ill-defined and being set to 0.0 in labels with no true samples.\n",
      "  'recall', 'true', average, warn_for)\n"
     ]
    }
   ],
   "source": [
    "# you only fit one Vector to Kmeans and let it do it's magic\n",
    "\n",
    "from sklearn.cluster import KMeans\n",
    "\n",
    "kmeans_model= KMeans(n_clusters=2)\n",
    "kmeans_model.fit(X_test)\n",
    "\n",
    "#%%from sklearn.metrics import classification_report\n",
    "from sklearn.metrics import classification_report\n",
    "y_predict = kmeans_model.predict(X_test)\n",
    "print(classification_report(y_test, y_predict))\n",
    "n_samples = X.shape[0]\n",
    "cv = ShuffleSplit(n_splits=5, test_size=0.3, random_state=0)\n",
    "print(cross_val_score(kmeans_model, X_train, y_train, cv=cv))"
   ]
  },
  {
   "cell_type": "code",
   "execution_count": 44,
   "metadata": {},
   "outputs": [
    {
     "name": "stdout",
     "output_type": "stream",
     "text": [
      "              precision    recall  f1-score   support\n",
      "\n",
      "           0       0.00      0.00      0.00       0.0\n",
      "           1       0.00      0.00      0.00       0.0\n",
      "           2       0.00      0.00      0.00      85.0\n",
      "           4       0.00      0.00      0.00      55.0\n",
      "\n",
      "    accuracy                           0.00     140.0\n",
      "   macro avg       0.00      0.00      0.00     140.0\n",
      "weighted avg       0.00      0.00      0.00     140.0\n",
      "\n",
      "[-11616.52336885  -9980.07292599 -11847.90256342 -12442.86584176\n",
      " -12345.9730353 ]\n"
     ]
    },
    {
     "name": "stderr",
     "output_type": "stream",
     "text": [
      "/home/shomer/anaconda3/lib/python3.7/site-packages/sklearn/metrics/classification.py:1437: UndefinedMetricWarning: Precision and F-score are ill-defined and being set to 0.0 in labels with no predicted samples.\n",
      "  'precision', 'predicted', average, warn_for)\n",
      "/home/shomer/anaconda3/lib/python3.7/site-packages/sklearn/metrics/classification.py:1439: UndefinedMetricWarning: Recall and F-score are ill-defined and being set to 0.0 in labels with no true samples.\n",
      "  'recall', 'true', average, warn_for)\n"
     ]
    }
   ],
   "source": [
    "# mean shift goes the same as kmeans\n",
    "from sklearn.metrics import classification_report\n",
    "from sklearn.cluster import MeanShift\n",
    "meanshift_model = MeanShift(n_jobs=-1)\n",
    "meanshift_model.fit(X)\n",
    "# %%from sklearn.metrics import classification_report\n",
    "y_predict = kmeans_model.predict(X_test)\n",
    "print(classification_report(y_test, y_predict))\n",
    "n_samples = X.shape[0]\n",
    "cv = ShuffleSplit(n_splits=5, test_size=0.3, random_state=0)\n",
    "print(cross_val_score(kmeans_model, X_train, y_train, cv=cv))"
   ]
  },
  {
   "cell_type": "code",
   "execution_count": 45,
   "metadata": {},
   "outputs": [
    {
     "name": "stdout",
     "output_type": "stream",
     "text": [
      "accuracy=  0.9642857142857143\n",
      "              precision    recall  f1-score   support\n",
      "\n",
      "           2       0.95      0.99      0.97        85\n",
      "           4       0.98      0.93      0.95        55\n",
      "\n",
      "    accuracy                           0.96       140\n",
      "   macro avg       0.97      0.96      0.96       140\n",
      "weighted avg       0.96      0.96      0.96       140\n",
      "\n",
      "[0.95714286 0.97142857 0.97619048 0.94761905 0.98095238]\n"
     ]
    }
   ],
   "source": [
    "from sklearn import neighbors\n",
    "Knearest_model =neighbors.KNeighborsClassifier(n_neighbors=9 ) \n",
    "Knearest_model=fit(Knearest_model)"
   ]
  },
  {
   "cell_type": "code",
   "execution_count": null,
   "metadata": {},
   "outputs": [],
   "source": [
    "#%% to save the model\n",
    "import pickle\n",
    "with open('SVM.pickle','wb') as f:\n",
    "    pickle.dump(model, f)\n",
    "\n",
    "#%% to load the model\n",
    "pickle_in = open('SVM.pickle','rb')\n",
    "model = pickle.load(pickle_in)"
   ]
  }
 ],
 "metadata": {
  "kernelspec": {
   "display_name": "Python 3",
   "language": "python",
   "name": "python3"
  },
  "language_info": {
   "codemirror_mode": {
    "name": "ipython",
    "version": 3
   },
   "file_extension": ".py",
   "mimetype": "text/x-python",
   "name": "python",
   "nbconvert_exporter": "python",
   "pygments_lexer": "ipython3",
   "version": "3.7.1"
  },
  "varInspector": {
   "cols": {
    "lenName": 16,
    "lenType": 16,
    "lenVar": 40
   },
   "kernels_config": {
    "python": {
     "delete_cmd_postfix": "",
     "delete_cmd_prefix": "del ",
     "library": "var_list.py",
     "varRefreshCmd": "print(var_dic_list())"
    },
    "r": {
     "delete_cmd_postfix": ") ",
     "delete_cmd_prefix": "rm(",
     "library": "var_list.r",
     "varRefreshCmd": "cat(var_dic_list()) "
    }
   },
   "types_to_exclude": [
    "module",
    "function",
    "builtin_function_or_method",
    "instance",
    "_Feature"
   ],
   "window_display": false
  }
 },
 "nbformat": 4,
 "nbformat_minor": 2
}
